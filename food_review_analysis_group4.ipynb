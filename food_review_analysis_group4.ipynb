{
 "cells": [
  {
   "cell_type": "code",
   "execution_count": 4,
   "id": "453b9c09",
   "metadata": {},
   "outputs": [],
   "source": [
    "# import libraries\n",
    "import pandas as pd"
   ]
  },
  {
   "cell_type": "code",
   "execution_count": 10,
   "id": "314a37df",
   "metadata": {},
   "outputs": [],
   "source": [
    "dataFile = \"review_data.txt\""
   ]
  },
  {
   "cell_type": "code",
   "execution_count": 11,
   "id": "cc23733d",
   "metadata": {},
   "outputs": [],
   "source": [
    "# read data from the text file\n",
    "with open(dataFile, \"r\") as file:\n",
    "    data = file.read()"
   ]
  },
  {
   "cell_type": "code",
   "execution_count": 13,
   "id": "290f7278",
   "metadata": {},
   "outputs": [],
   "source": [
    "# split the data into individual reviews\n",
    "reviews = data.strip().split(\"\\n\\n\")"
   ]
  },
  {
   "cell_type": "code",
   "execution_count": 16,
   "id": "bb26058f",
   "metadata": {},
   "outputs": [],
   "source": [
    "review_dicts = []\n",
    "for review in reviews:\n",
    "    review_dict = {}\n",
    "    lines = review.split('\\n')\n",
    "    for line in lines:\n",
    "        # Split each line at the first colon, assuming the field name may contain colons\n",
    "        parts = line.split(':', 1)\n",
    "        if len(parts) == 2:\n",
    "            field_name, field_value = parts\n",
    "            review_dict[field_name.strip()] = field_value.strip()\n",
    "    review_dicts.append(review_dict)"
   ]
  },
  {
   "cell_type": "code",
   "execution_count": 19,
   "id": "bd3c298d",
   "metadata": {},
   "outputs": [],
   "source": [
    "df = pd.DataFrame(review_dicts)"
   ]
  },
  {
   "cell_type": "code",
   "execution_count": 20,
   "id": "80813915",
   "metadata": {},
   "outputs": [
    {
     "name": "stdout",
     "output_type": "stream",
     "text": [
      "      product/productId   review/userId               review/profileName   \n",
      "0            B001E4KFG0  A3SGXH7AUHU8GW                       delmartian  \\\n",
      "1            B00813GRG4  A1D87F6ZCVE5NK                           dll pa   \n",
      "2            B000LQOCH0   ABXLMWJIXXAIN  Natalia Corres \"Natalia Corres\"   \n",
      "3            B000UA0QIQ  A395BORC6FGVXV                             Karl   \n",
      "4            B006K2ZZ7K  A1UQRSCLF8GW1T    Michael D. Bigham \"M. Wassir\"   \n",
      "...                 ...             ...                              ...   \n",
      "40037        B005P3BC6S  A37ADC94UE9V5W                       usefullife   \n",
      "40038        B0000DG4MO  A2BMLTODXV79NB                    Ariana Farris   \n",
      "40039        B0000DG4MO  A3BSW4VRGF5ZYL     Eric S. Johnson \"Mr. Bodley\"   \n",
      "40040        B0000DG4MO  A1R91I3D97CMYX                           Exxxxx   \n",
      "40041        B0000DG4MO  A33NOHAHIZP8VF                      J. Newberry   \n",
      "\n",
      "      review/helpfulness review/score review/time              review/summary   \n",
      "0                    1/1          5.0  1303862400       Good Quality Dog Food  \\\n",
      "1                    0/0          1.0  1346976000           Not as Advertised   \n",
      "2                    1/1          4.0  1219017600       \"Delight\" says it all   \n",
      "3                    3/3          2.0  1307923200              Cough Medicine   \n",
      "4                    0/0          5.0  1350777600                 Great taffy   \n",
      "...                  ...          ...         ...                         ...   \n",
      "40037                0/0          5.0  1350864000                        good   \n",
      "40038                4/4          5.0  1084492800   Best darn hot sauce EVER!   \n",
      "40039                3/3          5.0  1139270400   No Joke- Use with Caution   \n",
      "40040                3/3          5.0  1085356800       HOTHOTHOTHOTHOTHOTHOT   \n",
      "40041                0/0          5.0  1343692800  Thought I was going to die   \n",
      "\n",
      "                                             review/text  \n",
      "0      I have bought several of the Vitality canned d...  \n",
      "1      Product arrived labeled as Jumbo Salted Peanut...  \n",
      "2      This is a confection that has been around a fe...  \n",
      "3      If you are looking for the secret ingredient i...  \n",
      "4      Great taffy at a great price.  There was a wid...  \n",
      "...                                                  ...  \n",
      "40037  This product comes fast enough and allow my mo...  \n",
      "40038  I LOVE this hot sauce. I never used to like sp...  \n",
      "40039  I have had the same bottle of this elixir of t...  \n",
      "40040  This hot sauce is no joke.  I've loved spicy f...  \n",
      "40041  Tried this sauce on a chip, about four drops w...  \n",
      "\n",
      "[40042 rows x 8 columns]\n"
     ]
    }
   ],
   "source": [
    "print(df)"
   ]
  },
  {
   "cell_type": "code",
   "execution_count": null,
   "id": "2b531467",
   "metadata": {},
   "outputs": [],
   "source": []
  },
  {
   "cell_type": "code",
   "execution_count": null,
   "id": "b78b1e09",
   "metadata": {},
   "outputs": [],
   "source": []
  }
 ],
 "metadata": {
  "kernelspec": {
   "display_name": "Python 3 (ipykernel)",
   "language": "python",
   "name": "python3"
  },
  "language_info": {
   "codemirror_mode": {
    "name": "ipython",
    "version": 3
   },
   "file_extension": ".py",
   "mimetype": "text/x-python",
   "name": "python",
   "nbconvert_exporter": "python",
   "pygments_lexer": "ipython3",
   "version": "3.10.12"
  }
 },
 "nbformat": 4,
 "nbformat_minor": 5
}

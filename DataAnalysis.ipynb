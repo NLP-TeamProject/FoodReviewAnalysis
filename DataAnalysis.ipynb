{
 "cells": [
  {
   "cell_type": "code",
   "execution_count": 21,
   "id": "3152971e",
   "metadata": {},
   "outputs": [
    {
     "name": "stdout",
     "output_type": "stream",
     "text": [
      "0    This hot sauce is no joke.  I've loved spicy f...\n",
      "1    Tried this sauce on a chip, about four drops w...\n",
      "Name: review/text, dtype: object\n"
     ]
    }
   ],
   "source": [
    "import pandas as pd\n",
    "\n",
    "# Initialize an empty dictionary to store key-value pairs\n",
    "data_dict = {}\n",
    "\n",
    "# Open and read the text file\n",
    "with open('review_data.txt', 'r') as file:\n",
    "    current_key = None  # Initialize a variable to keep track of the current key\n",
    "    for line in file:\n",
    "        if line.strip():\n",
    "            key, value = line.strip().split(': ')\n",
    "            if key in data_dict:\n",
    "                data_dict[key].append(value)\n",
    "            else:\n",
    "                data_dict[key] = [value]\n",
    "\n",
    "# Create a DataFrame from the dictionary\n",
    "df = pd.DataFrame(data_dict)\n",
    "\n",
    "# Print the DataFrame\n",
    "print(df['review/text'])\n"
   ]
  },
  {
   "cell_type": "code",
   "execution_count": null,
   "id": "2cbf94ef",
   "metadata": {},
   "outputs": [],
   "source": []
  }
 ],
 "metadata": {
  "kernelspec": {
   "display_name": "Python 3 (ipykernel)",
   "language": "python",
   "name": "python3"
  },
  "language_info": {
   "codemirror_mode": {
    "name": "ipython",
    "version": 3
   },
   "file_extension": ".py",
   "mimetype": "text/x-python",
   "name": "python",
   "nbconvert_exporter": "python",
   "pygments_lexer": "ipython3",
   "version": "3.9.13"
  }
 },
 "nbformat": 4,
 "nbformat_minor": 5
}

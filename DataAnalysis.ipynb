{
 "cells": [
  {
   "cell_type": "code",
   "execution_count": 14,
   "id": "750fb53f",
   "metadata": {},
   "outputs": [
    {
     "name": "stdout",
     "output_type": "stream",
     "text": [
      "                   Key                                              Value\n",
      "0    product/productId                                         B0000DG4MO\n",
      "1        review/userId                                     A1R91I3D97CMYX\n",
      "2   review/profileName                                             Exxxxx\n",
      "3   review/helpfulness                                                3/3\n",
      "4         review/score                                                5.0\n",
      "5          review/time                                         1085356800\n",
      "6       review/summary                              HOTHOTHOTHOTHOTHOTHOT\n",
      "7          review/text  This hot sauce is no joke.  I've loved spicy f...\n",
      "8    product/productId                                         B0000DG4MO\n",
      "9        review/userId                                     A33NOHAHIZP8VF\n",
      "10  review/profileName                                        J. Newberry\n",
      "11  review/helpfulness                                                0/0\n",
      "12        review/score                                                5.0\n",
      "13         review/time                                         1343692800\n",
      "14      review/summary                         Thought I was going to die\n",
      "15         review/text  Tried this sauce on a chip, about four drops w...\n"
     ]
    },
    {
     "name": "stderr",
     "output_type": "stream",
     "text": [
      "C:\\Users\\16478\\AppData\\Local\\Temp\\ipykernel_18164\\499286818.py:11: FutureWarning: The frame.append method is deprecated and will be removed from pandas in a future version. Use pandas.concat instead.\n",
      "  df = df.append({\"Key\": key, \"Value\": value}, ignore_index=True)\n",
      "C:\\Users\\16478\\AppData\\Local\\Temp\\ipykernel_18164\\499286818.py:11: FutureWarning: The frame.append method is deprecated and will be removed from pandas in a future version. Use pandas.concat instead.\n",
      "  df = df.append({\"Key\": key, \"Value\": value}, ignore_index=True)\n",
      "C:\\Users\\16478\\AppData\\Local\\Temp\\ipykernel_18164\\499286818.py:11: FutureWarning: The frame.append method is deprecated and will be removed from pandas in a future version. Use pandas.concat instead.\n",
      "  df = df.append({\"Key\": key, \"Value\": value}, ignore_index=True)\n",
      "C:\\Users\\16478\\AppData\\Local\\Temp\\ipykernel_18164\\499286818.py:11: FutureWarning: The frame.append method is deprecated and will be removed from pandas in a future version. Use pandas.concat instead.\n",
      "  df = df.append({\"Key\": key, \"Value\": value}, ignore_index=True)\n",
      "C:\\Users\\16478\\AppData\\Local\\Temp\\ipykernel_18164\\499286818.py:11: FutureWarning: The frame.append method is deprecated and will be removed from pandas in a future version. Use pandas.concat instead.\n",
      "  df = df.append({\"Key\": key, \"Value\": value}, ignore_index=True)\n",
      "C:\\Users\\16478\\AppData\\Local\\Temp\\ipykernel_18164\\499286818.py:11: FutureWarning: The frame.append method is deprecated and will be removed from pandas in a future version. Use pandas.concat instead.\n",
      "  df = df.append({\"Key\": key, \"Value\": value}, ignore_index=True)\n",
      "C:\\Users\\16478\\AppData\\Local\\Temp\\ipykernel_18164\\499286818.py:11: FutureWarning: The frame.append method is deprecated and will be removed from pandas in a future version. Use pandas.concat instead.\n",
      "  df = df.append({\"Key\": key, \"Value\": value}, ignore_index=True)\n",
      "C:\\Users\\16478\\AppData\\Local\\Temp\\ipykernel_18164\\499286818.py:11: FutureWarning: The frame.append method is deprecated and will be removed from pandas in a future version. Use pandas.concat instead.\n",
      "  df = df.append({\"Key\": key, \"Value\": value}, ignore_index=True)\n",
      "C:\\Users\\16478\\AppData\\Local\\Temp\\ipykernel_18164\\499286818.py:11: FutureWarning: The frame.append method is deprecated and will be removed from pandas in a future version. Use pandas.concat instead.\n",
      "  df = df.append({\"Key\": key, \"Value\": value}, ignore_index=True)\n",
      "C:\\Users\\16478\\AppData\\Local\\Temp\\ipykernel_18164\\499286818.py:11: FutureWarning: The frame.append method is deprecated and will be removed from pandas in a future version. Use pandas.concat instead.\n",
      "  df = df.append({\"Key\": key, \"Value\": value}, ignore_index=True)\n",
      "C:\\Users\\16478\\AppData\\Local\\Temp\\ipykernel_18164\\499286818.py:11: FutureWarning: The frame.append method is deprecated and will be removed from pandas in a future version. Use pandas.concat instead.\n",
      "  df = df.append({\"Key\": key, \"Value\": value}, ignore_index=True)\n",
      "C:\\Users\\16478\\AppData\\Local\\Temp\\ipykernel_18164\\499286818.py:11: FutureWarning: The frame.append method is deprecated and will be removed from pandas in a future version. Use pandas.concat instead.\n",
      "  df = df.append({\"Key\": key, \"Value\": value}, ignore_index=True)\n",
      "C:\\Users\\16478\\AppData\\Local\\Temp\\ipykernel_18164\\499286818.py:11: FutureWarning: The frame.append method is deprecated and will be removed from pandas in a future version. Use pandas.concat instead.\n",
      "  df = df.append({\"Key\": key, \"Value\": value}, ignore_index=True)\n",
      "C:\\Users\\16478\\AppData\\Local\\Temp\\ipykernel_18164\\499286818.py:11: FutureWarning: The frame.append method is deprecated and will be removed from pandas in a future version. Use pandas.concat instead.\n",
      "  df = df.append({\"Key\": key, \"Value\": value}, ignore_index=True)\n",
      "C:\\Users\\16478\\AppData\\Local\\Temp\\ipykernel_18164\\499286818.py:11: FutureWarning: The frame.append method is deprecated and will be removed from pandas in a future version. Use pandas.concat instead.\n",
      "  df = df.append({\"Key\": key, \"Value\": value}, ignore_index=True)\n",
      "C:\\Users\\16478\\AppData\\Local\\Temp\\ipykernel_18164\\499286818.py:11: FutureWarning: The frame.append method is deprecated and will be removed from pandas in a future version. Use pandas.concat instead.\n",
      "  df = df.append({\"Key\": key, \"Value\": value}, ignore_index=True)\n"
     ]
    }
   ],
   "source": [
    "import pandas as pd\n",
    "\n",
    "# Create an empty DataFrame\n",
    "df = pd.DataFrame(columns=[\"Key\", \"Value\"])\n",
    "\n",
    "# Open and read the text file\n",
    "with open('C:\\\\Users\\\\16478\\\\Downloads\\\\review_data_test.txt', 'r') as file:\n",
    "    for line in file:\n",
    "            if line.strip():\n",
    "                key, value = line.strip().split(': ')\n",
    "                df = df.append({\"Key\": key, \"Value\": value}, ignore_index=True)\n",
    "                #print(line)\n",
    "            \n",
    "\n",
    "# Display the DataFrame\n",
    "print(df)"
   ]
  },
  {
   "cell_type": "code",
   "execution_count": 16,
   "id": "1dfe7e8d",
   "metadata": {},
   "outputs": [
    {
     "name": "stdout",
     "output_type": "stream",
     "text": [
      "  product/productId   review/userId review/profileName review/helpfulness  \\\n",
      "0        B0000DG4MO  A33NOHAHIZP8VF        J. Newberry                0/0   \n",
      "\n",
      "  review/score review/time              review/summary  \\\n",
      "0          5.0  1343692800  Thought I was going to die   \n",
      "\n",
      "                                         review/text  \n",
      "0  Tried this sauce on a chip, about four drops w...  \n"
     ]
    }
   ],
   "source": [
    "import pandas as pd\n",
    "\n",
    "# Initialize an empty dictionary to store key-value pairs\n",
    "data_dict = {}\n",
    "\n",
    "# Open and read the text file\n",
    "with open('C:\\\\Users\\\\16478\\\\Downloads\\\\review_data_test.txt', 'r') as file:\n",
    "    for line in file:\n",
    "        if line.strip():\n",
    "            key, value = line.strip().split(': ')\n",
    "            data_dict[key] = [value]\n",
    "\n",
    "# Create a DataFrame from the dictionary\n",
    "df = pd.DataFrame(data_dict)\n",
    "\n",
    "# Print the DataFrame\n",
    "print(df)"
   ]
  },
  {
   "cell_type": "code",
   "execution_count": 19,
   "id": "7db70d48",
   "metadata": {},
   "outputs": [
    {
     "name": "stdout",
     "output_type": "stream",
     "text": [
      "0    This hot sauce is no joke.  I've loved spicy f...\n",
      "1    Tried this sauce on a chip, about four drops w...\n",
      "Name: review/text, dtype: object\n"
     ]
    }
   ],
   "source": [
    "import pandas as pd\n",
    "\n",
    "# Initialize an empty dictionary to store key-value pairs\n",
    "data_dict = {}\n",
    "\n",
    "# Open and read the text file\n",
    "with open('C:\\\\Users\\\\16478\\\\Downloads\\\\review_data_test.txt', 'r') as file:\n",
    "    current_key = None  # Initialize a variable to keep track of the current key\n",
    "    for line in file:\n",
    "        if line.strip():\n",
    "            key, value = line.strip().split(': ')\n",
    "            if key in data_dict:\n",
    "                data_dict[key].append(value)\n",
    "            else:\n",
    "                data_dict[key] = [value]\n",
    "\n",
    "# Create a DataFrame from the dictionary\n",
    "df = pd.DataFrame(data_dict)\n",
    "\n",
    "# Print the DataFrame\n",
    "print(df['review/text'])\n"
   ]
  },
  {
   "cell_type": "code",
   "execution_count": null,
   "id": "34983bab",
   "metadata": {},
   "outputs": [],
   "source": []
  }
 ],
 "metadata": {
  "kernelspec": {
   "display_name": "Python 3 (ipykernel)",
   "language": "python",
   "name": "python3"
  },
  "language_info": {
   "codemirror_mode": {
    "name": "ipython",
    "version": 3
   },
   "file_extension": ".py",
   "mimetype": "text/x-python",
   "name": "python",
   "nbconvert_exporter": "python",
   "pygments_lexer": "ipython3",
   "version": "3.9.13"
  }
 },
 "nbformat": 4,
 "nbformat_minor": 5
}
